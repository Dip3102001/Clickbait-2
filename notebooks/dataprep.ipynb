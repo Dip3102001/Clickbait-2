{
  "nbformat": 4,
  "nbformat_minor": 0,
  "metadata": {
    "colab": {
      "provenance": []
    },
    "kernelspec": {
      "name": "python3",
      "display_name": "Python 3"
    },
    "language_info": {
      "name": "python"
    }
  },
  "cells": [
    {
      "cell_type": "code",
      "execution_count": null,
      "metadata": {
        "id": "0hMNw8iu3n4g"
      },
      "outputs": [],
      "source": [
        "import os;\n",
        "import os.path;\n",
        "\n",
        "import math;\n",
        "import statistics;\n",
        "\n",
        "import json;"
      ]
    },
    {
      "cell_type": "markdown",
      "source": [
        "# Reading jsonl format"
      ],
      "metadata": {
        "id": "2Y3F2tzT4Dy_"
      }
    },
    {
      "cell_type": "code",
      "source": [
        "trainset_path = \"/content/drive/MyDrive/Webis/train.jsonl\";\n",
        "valset_path = \"/content/drive/MyDrive/Webis/validation.jsonl\";\n",
        "\n",
        "with open(trainset_path, \"r\") as f:\n",
        "  trainset = f.readlines();\n",
        "\n",
        "with open(valset_path, \"r\") as f:\n",
        "  valset = f.readlines();"
      ],
      "metadata": {
        "id": "oCLaJWo74BUn"
      },
      "execution_count": null,
      "outputs": []
    },
    {
      "cell_type": "code",
      "source": [
        "trainset_json = [json.loads(x) for x in trainset];\n",
        "valset_json = [json.loads(x) for x in valset];"
      ],
      "metadata": {
        "id": "Nkuu4pAf4H7c"
      },
      "execution_count": null,
      "outputs": []
    },
    {
      "cell_type": "markdown",
      "source": [
        "# Extracting common fields from json data"
      ],
      "metadata": {
        "id": "h4kOodDm4PLu"
      }
    },
    {
      "cell_type": "code",
      "source": [
        "fields = ['postText','targetParagraphs','targetTitle','targetDescription'];"
      ],
      "metadata": {
        "id": "WScU2xrf4JaG"
      },
      "execution_count": null,
      "outputs": []
    },
    {
      "cell_type": "code",
      "source": [
        "def generate_cmb_set(dataset):\n",
        "    cmb_set = [];\n",
        "    for line in dataset:\n",
        "        buffer = [];\n",
        "        for field in fields:\n",
        "            if field in line.keys():\n",
        "                data = line[field];\n",
        "                if isinstance(data, list):\n",
        "                    for item in data:\n",
        "                        buffer.append(item);\n",
        "                elif data is not None:\n",
        "                    buffer.append(item);\n",
        "        cmb_str = \" \".join(buffer);\n",
        "        cmb_str = cmb_str.replace(\"\\n\", \" \");\n",
        "        cmb_set.append(cmb_str);\n",
        "    return cmb_set;"
      ],
      "metadata": {
        "id": "t4jmNfpS40Vd"
      },
      "execution_count": null,
      "outputs": []
    },
    {
      "cell_type": "code",
      "source": [
        "trainset_cmb_set = generate_cmb_set(trainset_json);\n",
        "valset_cmb_set = generate_cmb_set(valset_json);"
      ],
      "metadata": {
        "id": "b38ukE6l44wi"
      },
      "execution_count": null,
      "outputs": []
    },
    {
      "cell_type": "code",
      "source": [
        "trainset_cmb_location = \"/content/drive/MyDrive/Webis/DATA/trainset_cmb.txt\";\n",
        "valset_cmb_location = \"/content/drive/MyDrive/Webis/DATA/valset_cmb.txt\";\n",
        "\n",
        "with open(trainset_cmb_location, \"w\") as f:\n",
        "    f.write(\"\\n\".join(trainset_cmb_set));\n",
        "\n",
        "with open(valset_cmb_location, \"w\") as f:\n",
        "    f.write(\"\\n\".join(valset_cmb_set));"
      ],
      "metadata": {
        "id": "SiPrwLgy44zN"
      },
      "execution_count": null,
      "outputs": []
    },
    {
      "cell_type": "markdown",
      "source": [
        "# Extracting Labels for task-1"
      ],
      "metadata": {
        "id": "aMQb_7xu5pKx"
      }
    },
    {
      "cell_type": "code",
      "source": [
        "def generateLabel(path):\n",
        "    if path is not None:\n",
        "        with open(path, \"r\") as f:\n",
        "            lines = f.readlines();\n",
        "        labels = [json.loads(x)[\"tags\"][0] for x in lines];\n",
        "        return labels;\n",
        "    else:\n",
        "        raise Exception(\"Path is None\");"
      ],
      "metadata": {
        "id": "eXp4dGUh5jfr"
      },
      "execution_count": null,
      "outputs": []
    },
    {
      "cell_type": "code",
      "source": [
        "train_label = generateLabel(\"/content/drive/MyDrive/Webis/train.jsonl\");\n",
        "val_label = generateLabel(\"/content/drive/MyDrive/Webis/validation.jsonl\");"
      ],
      "metadata": {
        "id": "2kBp3npk549t"
      },
      "execution_count": null,
      "outputs": []
    },
    {
      "cell_type": "code",
      "source": [
        "labels = [];\n",
        "for _ in train_label+val_label:\n",
        "    if _ not in labels:\n",
        "        labels.append(_);\n",
        "print(labels);"
      ],
      "metadata": {
        "id": "zE1Zx5tW5jqF"
      },
      "execution_count": null,
      "outputs": []
    },
    {
      "cell_type": "code",
      "source": [
        "train_label = [str(labels.index(x)) for x in train_label];\n",
        "val_label = [str(labels.index(x)) for x in val_label];"
      ],
      "metadata": {
        "id": "0w1MEVrp58fs"
      },
      "execution_count": null,
      "outputs": []
    },
    {
      "cell_type": "code",
      "source": [
        "def store(path,data):\n",
        "    with open(path,\"w\") as file:\n",
        "        file.write(\"\\n\".join(data));"
      ],
      "metadata": {
        "id": "uINZL-pp8X9T"
      },
      "execution_count": null,
      "outputs": []
    },
    {
      "cell_type": "code",
      "source": [
        "store(\"/content/drive/MyDrive/Webis/y_train.txt\",train_label);\n",
        "store(\"/content/drive/MyDrive/Webis/y_val.txt\",val_label);"
      ],
      "metadata": {
        "id": "jK018ZuQ8e6A"
      },
      "execution_count": null,
      "outputs": []
    },
    {
      "cell_type": "markdown",
      "source": [
        "# Extracting spoilers for task-2"
      ],
      "metadata": {
        "id": "fzwslMv88o4p"
      }
    },
    {
      "cell_type": "code",
      "source": [
        "def extractSpoiler(path=None):\n",
        "    y = [];\n",
        "\n",
        "    if path is None:\n",
        "        raise Exception(\"Path is not provided\");\n",
        "    with open(path, \"r\") as f:\n",
        "        lines = f.readlines();\n",
        "\n",
        "\n",
        "    for line in lines:\n",
        "        json_line = json.loads(line);\n",
        "        spoiler = \" \".join(json_line[\"spoiler\"]);\n",
        "        y.append(spoiler);\n",
        "\n",
        "    return y;"
      ],
      "metadata": {
        "id": "aGpf_3Gt8iZ1"
      },
      "execution_count": null,
      "outputs": []
    },
    {
      "cell_type": "code",
      "source": [
        "spoilers = extractSpoiler(\"/content/drive/MyDrive/Webis/train.jsonl\");"
      ],
      "metadata": {
        "id": "fGdWyX7l8ico"
      },
      "execution_count": null,
      "outputs": []
    },
    {
      "cell_type": "code",
      "source": [
        "with open(\"/content/drive/MyDrive/Webis/spoiler_y.txt\",\"w\") as file:\n",
        "    file.write(\"\\n\".join(spoilers));"
      ],
      "metadata": {
        "id": "Q57A08Ui8wGp"
      },
      "execution_count": null,
      "outputs": []
    },
    {
      "cell_type": "code",
      "source": [
        "spoilers = extractSpoiler(\"/content/drive/MyDrive/Webis/validation.jsonl\");"
      ],
      "metadata": {
        "id": "f8ULWpCt9KPp"
      },
      "execution_count": null,
      "outputs": []
    },
    {
      "cell_type": "code",
      "source": [
        "with open(\"/content/drive/MyDrive/Webis/spoiler_y_val.txt\",\"w\") as file:\n",
        "    file.write(\"\\n\".join(spoilers));"
      ],
      "metadata": {
        "id": "KcMqiMxz9KSY"
      },
      "execution_count": null,
      "outputs": []
    }
  ]
}